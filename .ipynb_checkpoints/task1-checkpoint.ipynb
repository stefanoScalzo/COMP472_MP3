{
 "cells": [
  {
   "cell_type": "code",
   "execution_count": 4,
   "id": "97bea2e2",
   "metadata": {},
   "outputs": [],
   "source": [
    "import pandas as pd\n",
    "import csv\n",
    "from gensim.models.word2vec import Word2Vec\n",
    "from gensim.models import KeyedVectors\n",
    "df = pd.read_csv(\"synonyms.csv\")\n",
    "model = KeyedVectors.load_word2vec_format('./GoogleNews-vectors-negative300.bin.gz', binary=True)"
   ]
  },
  {
   "cell_type": "code",
   "execution_count": 6,
   "id": "cb76024c",
   "metadata": {},
   "outputs": [
    {
     "ename": "TypeError",
     "evalue": "writerow() takes exactly one argument (4 given)",
     "output_type": "error",
     "traceback": [
      "\u001b[0;31m---------------------------------------------------------------------------\u001b[0m",
      "\u001b[0;31mTypeError\u001b[0m                                 Traceback (most recent call last)",
      "\u001b[0;32m<ipython-input-6-1ea28ce6284c>\u001b[0m in \u001b[0;36m<module>\u001b[0;34m\u001b[0m\n\u001b[1;32m     17\u001b[0m         \u001b[0mtype\u001b[0m \u001b[0;34m=\u001b[0m \u001b[0;34m\"wrong\"\u001b[0m\u001b[0;34m\u001b[0m\u001b[0;34m\u001b[0m\u001b[0m\n\u001b[1;32m     18\u001b[0m \u001b[0;34m\u001b[0m\u001b[0m\n\u001b[0;32m---> 19\u001b[0;31m     \u001b[0mwriter\u001b[0m\u001b[0;34m.\u001b[0m\u001b[0mwriterow\u001b[0m\u001b[0;34m(\u001b[0m\u001b[0marray\u001b[0m\u001b[0;34m[\u001b[0m\u001b[0;36m0\u001b[0m\u001b[0;34m]\u001b[0m\u001b[0;34m,\u001b[0m\u001b[0marray\u001b[0m\u001b[0;34m[\u001b[0m\u001b[0;36m1\u001b[0m\u001b[0;34m]\u001b[0m\u001b[0;34m,\u001b[0m\u001b[0mhighestScoreWord\u001b[0m\u001b[0;34m,\u001b[0m\u001b[0mtype\u001b[0m\u001b[0;34m)\u001b[0m\u001b[0;34m\u001b[0m\u001b[0;34m\u001b[0m\u001b[0m\n\u001b[0m\u001b[1;32m     20\u001b[0m \u001b[0mf\u001b[0m\u001b[0;34m.\u001b[0m\u001b[0mclose\u001b[0m\u001b[0;34m(\u001b[0m\u001b[0;34m)\u001b[0m\u001b[0;34m\u001b[0m\u001b[0;34m\u001b[0m\u001b[0m\n",
      "\u001b[0;31mTypeError\u001b[0m: writerow() takes exactly one argument (4 given)"
     ]
    }
   ],
   "source": [
    "f = open('./KeyedVectors-details.csv', 'w')\n",
    "writer = csv.writer(f)\n",
    "for array in df.values:\n",
    "    highestScore = 0\n",
    "    d = \"\"\n",
    "    type = \"guess\"\n",
    "    for (index,word) in enumerate (array):\n",
    "        if(word in model.key_to_index and array[0] in model.key_to_index):\n",
    "            if(index > 1 and model.distance(array[0], word) > highestScore):\n",
    "                highestScoreWord = word\n",
    "            \n",
    "    if(array[0] not in model.key_to_index or len(list(filter(lambda x: x in model.key_to_index, array)))<2):\n",
    "        type = \"guess\"\n",
    "    elif(array[1]==highestScoreWord):\n",
    "        type=\"right\"\n",
    "    else: \n",
    "        type = \"wrong\"\n",
    "\n",
    "    writer.writerow(array[0],array[1],highestScoreWord,type)\n",
    "f.close()\n"
   ]
  }
 ],
 "metadata": {
  "kernelspec": {
   "display_name": "Python 3 (ipykernel)",
   "language": "python",
   "name": "python3"
  },
  "language_info": {
   "codemirror_mode": {
    "name": "ipython",
    "version": 3
   },
   "file_extension": ".py",
   "mimetype": "text/x-python",
   "name": "python",
   "nbconvert_exporter": "python",
   "pygments_lexer": "ipython3",
   "version": "3.9.7"
  }
 },
 "nbformat": 4,
 "nbformat_minor": 5
}
