{
 "cells": [
  {
   "cell_type": "code",
   "execution_count": 2,
   "id": "97bea2e2",
   "metadata": {},
   "outputs": [],
   "source": [
    "import pandas as pd\n",
    "import csv\n",
    "from gensim.models.word2vec import Word2Vec\n",
    "from gensim.models import KeyedVectors\n",
    "df = pd.read_csv(\"synonyms.csv\")\n",
    "model = KeyedVectors.load_word2vec_format('./GoogleNews-vectors-negative300.bin.gz', binary=True)"
   ]
  },
  {
   "cell_type": "code",
   "execution_count": 7,
   "id": "cb76024c",
   "metadata": {},
   "outputs": [],
   "source": [
    "f = open('./KeyedVectors-details.csv', 'w')\n",
    "writer = csv.writer(f)\n",
    "for array in df.values:\n",
    "    highestScore = 0\n",
    "    d = \"\"\n",
    "    type = \"guess\"\n",
    "    for (index,word) in enumerate (array):\n",
    "        if(word in model.key_to_index and array[0] in model.key_to_index):\n",
    "            if(index > 1 and model.distance(array[0], word) > highestScore):\n",
    "                highestScoreWord = word\n",
    "            \n",
    "    if(array[0] not in model.key_to_index or len(list(filter(lambda x: x in model.key_to_index, array)))<2):\n",
    "        type = \"guess\"\n",
    "    elif(array[1]==highestScoreWord):\n",
    "        type = \"correct\"\n",
    "    else: \n",
    "        type = \"wrong\"\n",
    "\n",
    "    writer.writerow([array[0],array[1],highestScoreWord,type])\n",
    "f.close()\n"
   ]
  }
 ],
 "metadata": {
  "kernelspec": {
   "display_name": "Python 3",
   "language": "python",
   "name": "python3"
  },
  "language_info": {
   "codemirror_mode": {
    "name": "ipython",
    "version": 3
   },
   "file_extension": ".py",
   "mimetype": "text/x-python",
   "name": "python",
   "nbconvert_exporter": "python",
   "pygments_lexer": "ipython3",
   "version": "3.8.10"
  }
 },
 "nbformat": 4,
 "nbformat_minor": 5
}
